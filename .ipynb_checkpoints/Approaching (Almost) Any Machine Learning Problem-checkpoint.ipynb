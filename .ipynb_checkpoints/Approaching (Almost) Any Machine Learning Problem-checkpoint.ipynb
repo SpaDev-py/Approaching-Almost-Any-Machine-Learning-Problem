{
 "cells": [
  {
   "cell_type": "markdown",
   "metadata": {},
   "source": [
    "### Abhishek Thakur shared his book on Machine Learning with me and my intention is to go through the code carefully and implement it on my own \n",
    "\n",
    "**Approching (Almost) Any Machine Learning Problem**"
   ]
  },
  {
   "cell_type": "code",
   "execution_count": 1,
   "metadata": {
    "ExecuteTime": {
     "end_time": "2020-09-13T09:21:02.969986Z",
     "start_time": "2020-09-13T09:20:59.877197Z"
    }
   },
   "outputs": [],
   "source": [
    "# import required libraries\n",
    "import matplotlib.pyplot as plt # for plotting\n",
    "import numpy as np # handle the numerical arrays\n",
    "import pandas as pd # create dataframes from the numerical arrays\n",
    "import seaborn as sns # for plotting\n",
    "from sklearn import datasets # to get the data and perform t-SNE.\n",
    "from sklearn import manifold \n",
    "%matplotlib inline"
   ]
  },
  {
   "cell_type": "code",
   "execution_count": 2,
   "metadata": {
    "ExecuteTime": {
     "end_time": "2020-09-13T09:21:51.314812Z",
     "start_time": "2020-09-13T09:21:02.973944Z"
    }
   },
   "outputs": [],
   "source": [
    "# fetched the data using sklearn datasets\n",
    "data = datasets.fetch_openml(\n",
    "'mnist_784', version=1, return_X_y=True\n",
    ")\n",
    "pixel_values, targets = data\n",
    "targets = targets.astype(int)"
   ]
  },
  {
   "cell_type": "code",
   "execution_count": 3,
   "metadata": {
    "ExecuteTime": {
     "end_time": "2020-09-13T09:21:51.788385Z",
     "start_time": "2020-09-13T09:21:51.322125Z"
    }
   },
   "outputs": [
    {
     "data": {
      "text/plain": [
       "<matplotlib.image.AxesImage at 0x1a24f7d9d0>"
      ]
     },
     "execution_count": 3,
     "metadata": {},
     "output_type": "execute_result"
    },
    {
     "data": {
      "image/png": "[encoded data removed]",
      "text/plain": [
       "<Figure size 432x288 with 1 Axes>"
      ]
     },
     "metadata": {
      "needs_background": "light"
     },
     "output_type": "display_data"
    }
   ],
   "source": [
    "# visualize the samples\n",
    "single_image = pixel_values[1, :].reshape(28, 28)\n",
    "plt.imshow(single_image, cmap='gray')"
   ]
  },
  {
   "cell_type": "code",
   "execution_count": 4,
   "metadata": {
    "ExecuteTime": {
     "end_time": "2020-09-13T09:22:52.222064Z",
     "start_time": "2020-09-13T09:21:51.793335Z"
    }
   },
   "outputs": [],
   "source": [
    "# This step creates the t-SNE transformation of the data\n",
    "tsne = manifold.TSNE(n_components=2, random_state=42)\n",
    "transformed_data = tsne.fit_transform(pixel_values[:3000, :])"
   ]
  },
  {
   "cell_type": "code",
   "execution_count": 5,
   "metadata": {
    "ExecuteTime": {
     "end_time": "2020-09-13T09:22:52.237526Z",
     "start_time": "2020-09-13T09:22:52.226255Z"
    }
   },
   "outputs": [
    {
     "data": {
      "text/plain": [
       "sklearn.manifold._t_sne.TSNE"
      ]
     },
     "execution_count": 5,
     "metadata": {},
     "output_type": "execute_result"
    }
   ],
   "source": [
    "type(tsne)"
   ]
  },
  {
   "cell_type": "code",
   "execution_count": 6,
   "metadata": {
    "ExecuteTime": {
     "end_time": "2020-09-13T09:22:52.274843Z",
     "start_time": "2020-09-13T09:22:52.245327Z"
    }
   },
   "outputs": [],
   "source": [
    "# creating a pandas dataframe from a numpy array\n",
    "tsne_df = pd.DataFrame(\n",
    "np.column_stack((transformed_data, targets[:3000])),\n",
    "columns=[\"x\", \"y\", \"targets\"] )\n",
    "tsne_df.loc[:, \"targets\"] = tsne_df.targets.astype(int)"
   ]
  },
  {
   "cell_type": "code",
   "execution_count": 7,
   "metadata": {
    "ExecuteTime": {
     "end_time": "2020-09-13T09:22:52.310180Z",
     "start_time": "2020-09-13T09:22:52.278984Z"
    }
   },
   "outputs": [
    {
     "data": {
      "text/html": [
       "<div>\n",
       "<style scoped>\n",
       "    .dataframe tbody tr th:only-of-type {\n",
       "        vertical-align: middle;\n",
       "    }\n",
       "\n",
       "    .dataframe tbody tr th {\n",
       "        vertical-align: top;\n",
       "    }\n",
       "\n",
       "    .dataframe thead th {\n",
       "        text-align: right;\n",
       "    }\n",
       "</style>\n",
       "<table border=\"1\" class=\"dataframe\">\n",
       "  <thead>\n",
       "    <tr style=\"text-align: right;\">\n",
       "      <th></th>\n",
       "      <th>x</th>\n",
       "      <th>y</th>\n",
       "      <th>targets</th>\n",
       "    </tr>\n",
       "  </thead>\n",
       "  <tbody>\n",
       "    <tr>\n",
       "      <th>0</th>\n",
       "      <td>-5.281551</td>\n",
       "      <td>-28.952768</td>\n",
       "      <td>5</td>\n",
       "    </tr>\n",
       "    <tr>\n",
       "      <th>1</th>\n",
       "      <td>-26.105896</td>\n",
       "      <td>-68.069321</td>\n",
       "      <td>0</td>\n",
       "    </tr>\n",
       "    <tr>\n",
       "      <th>2</th>\n",
       "      <td>-42.503582</td>\n",
       "      <td>35.580391</td>\n",
       "      <td>4</td>\n",
       "    </tr>\n",
       "    <tr>\n",
       "      <th>3</th>\n",
       "      <td>38.893967</td>\n",
       "      <td>26.663395</td>\n",
       "      <td>1</td>\n",
       "    </tr>\n",
       "    <tr>\n",
       "      <th>4</th>\n",
       "      <td>-14.770573</td>\n",
       "      <td>35.433247</td>\n",
       "      <td>9</td>\n",
       "    </tr>\n",
       "  </tbody>\n",
       "</table>\n",
       "</div>"
      ],
      "text/plain": [
       "           x          y  targets\n",
       "0  -5.281551 -28.952768        5\n",
       "1 -26.105896 -68.069321        0\n",
       "2 -42.503582  35.580391        4\n",
       "3  38.893967  26.663395        1\n",
       "4 -14.770573  35.433247        9"
      ]
     },
     "execution_count": 7,
     "metadata": {},
     "output_type": "execute_result"
    }
   ],
   "source": [
    "tsne_df.head()"
   ]
  },
  {
   "cell_type": "code",
   "execution_count": 8,
   "metadata": {
    "ExecuteTime": {
     "end_time": "2020-09-13T09:22:54.582778Z",
     "start_time": "2020-09-13T09:22:52.317820Z"
    }
   },
   "outputs": [
    {
     "data": {
      "text/plain": [
       "<seaborn.axisgrid.FacetGrid at 0x1a34562810>"
      ]
     },
     "execution_count": 8,
     "metadata": {},
     "output_type": "execute_result"
    },
    {
     "data": {
      "image/png": "[encoded data removed]",
      "text/plain": [
       "<Figure size 619.625x576 with 1 Axes>"
      ]
     },
     "metadata": {
      "needs_background": "light"
     },
     "output_type": "display_data"
    }
   ],
   "source": [
    "# we can plot it using seaborn and matplotlib\n",
    "grid = sns.FacetGrid(tsne_df, hue=\"targets\", height=8)\n",
    "grid.map(plt.scatter, \"x\", \"y\").add_legend()"
   ]
  },
  {
   "cell_type": "code",
   "execution_count": 9,
   "metadata": {
    "ExecuteTime": {
     "end_time": "2020-09-13T09:22:54.612569Z",
     "start_time": "2020-09-13T09:22:54.588618Z"
    }
   },
   "outputs": [],
   "source": [
    "titanic_data = pd.read_csv('titanic_data.csv')"
   ]
  },
  {
   "cell_type": "code",
   "execution_count": 10,
   "metadata": {
    "ExecuteTime": {
     "end_time": "2020-09-13T09:22:55.620098Z",
     "start_time": "2020-09-13T09:22:54.618383Z"
    }
   },
   "outputs": [
    {
     "data": {
      "text/plain": [
       "<seaborn.axisgrid.FacetGrid at 0x1a25ab1510>"
      ]
     },
     "execution_count": 10,
     "metadata": {},
     "output_type": "execute_result"
    },
    {
     "data": {
      "image/png": "[encoded data removed]",
      "text/plain": [
       "<Figure size 627.875x576 with 1 Axes>"
      ]
     },
     "metadata": {
      "needs_background": "light"
     },
     "output_type": "display_data"
    }
   ],
   "source": [
    "# plotting features from the titanic DataFrame using seaborn and matplotlib\n",
    "grid = sns.FacetGrid(titanic_data, hue=\"Survived\", height=8)\n",
    "grid.map(plt.scatter, \"Age\", \"Fare\").add_legend()"
   ]
  },
  {
   "cell_type": "markdown",
   "metadata": {},
   "source": [
    "**Cross-validation**\n",
    "\n",
    "*cross-validation is a step in the process of building a machine learning model which helps us ensure that our models fit the data accurately and also ensures that we do not overfit*"
   ]
  },
  {
   "cell_type": "code",
   "execution_count": 11,
   "metadata": {
    "ExecuteTime": {
     "end_time": "2020-09-13T09:22:55.662496Z",
     "start_time": "2020-09-13T09:22:55.624488Z"
    }
   },
   "outputs": [
    {
     "data": {
      "text/html": [
       "<div>\n",
       "<style scoped>\n",
       "    .dataframe tbody tr th:only-of-type {\n",
       "        vertical-align: middle;\n",
       "    }\n",
       "\n",
       "    .dataframe tbody tr th {\n",
       "        vertical-align: top;\n",
       "    }\n",
       "\n",
       "    .dataframe thead th {\n",
       "        text-align: right;\n",
       "    }\n",
       "</style>\n",
       "<table border=\"1\" class=\"dataframe\">\n",
       "  <thead>\n",
       "    <tr style=\"text-align: right;\">\n",
       "      <th></th>\n",
       "      <th>fixed acidity</th>\n",
       "      <th>volatile acidity</th>\n",
       "      <th>citric acid</th>\n",
       "      <th>residual sugar</th>\n",
       "      <th>chlorides</th>\n",
       "      <th>free sulfur dioxide</th>\n",
       "      <th>total sulfur dioxide</th>\n",
       "      <th>density</th>\n",
       "      <th>pH</th>\n",
       "      <th>sulphates</th>\n",
       "      <th>alcohol</th>\n",
       "      <th>quality</th>\n",
       "    </tr>\n",
       "  </thead>\n",
       "  <tbody>\n",
       "    <tr>\n",
       "      <th>0</th>\n",
       "      <td>7.4</td>\n",
       "      <td>0.70</td>\n",
       "      <td>0.00</td>\n",
       "      <td>1.9</td>\n",
       "      <td>0.076</td>\n",
       "      <td>11.0</td>\n",
       "      <td>34.0</td>\n",
       "      <td>0.9978</td>\n",
       "      <td>3.51</td>\n",
       "      <td>0.56</td>\n",
       "      <td>9.4</td>\n",
       "      <td>5</td>\n",
       "    </tr>\n",
       "    <tr>\n",
       "      <th>1</th>\n",
       "      <td>7.8</td>\n",
       "      <td>0.88</td>\n",
       "      <td>0.00</td>\n",
       "      <td>2.6</td>\n",
       "      <td>0.098</td>\n",
       "      <td>25.0</td>\n",
       "      <td>67.0</td>\n",
       "      <td>0.9968</td>\n",
       "      <td>3.20</td>\n",
       "      <td>0.68</td>\n",
       "      <td>9.8</td>\n",
       "      <td>5</td>\n",
       "    </tr>\n",
       "    <tr>\n",
       "      <th>2</th>\n",
       "      <td>7.8</td>\n",
       "      <td>0.76</td>\n",
       "      <td>0.04</td>\n",
       "      <td>2.3</td>\n",
       "      <td>0.092</td>\n",
       "      <td>15.0</td>\n",
       "      <td>54.0</td>\n",
       "      <td>0.9970</td>\n",
       "      <td>3.26</td>\n",
       "      <td>0.65</td>\n",
       "      <td>9.8</td>\n",
       "      <td>5</td>\n",
       "    </tr>\n",
       "    <tr>\n",
       "      <th>3</th>\n",
       "      <td>11.2</td>\n",
       "      <td>0.28</td>\n",
       "      <td>0.56</td>\n",
       "      <td>1.9</td>\n",
       "      <td>0.075</td>\n",
       "      <td>17.0</td>\n",
       "      <td>60.0</td>\n",
       "      <td>0.9980</td>\n",
       "      <td>3.16</td>\n",
       "      <td>0.58</td>\n",
       "      <td>9.8</td>\n",
       "      <td>6</td>\n",
       "    </tr>\n",
       "    <tr>\n",
       "      <th>4</th>\n",
       "      <td>7.4</td>\n",
       "      <td>0.70</td>\n",
       "      <td>0.00</td>\n",
       "      <td>1.9</td>\n",
       "      <td>0.076</td>\n",
       "      <td>11.0</td>\n",
       "      <td>34.0</td>\n",
       "      <td>0.9978</td>\n",
       "      <td>3.51</td>\n",
       "      <td>0.56</td>\n",
       "      <td>9.4</td>\n",
       "      <td>5</td>\n",
       "    </tr>\n",
       "  </tbody>\n",
       "</table>\n",
       "</div>"
      ],
      "text/plain": [
       "   fixed acidity  volatile acidity  citric acid  residual sugar  chlorides  \\\n",
       "0            7.4              0.70         0.00             1.9      0.076   \n",
       "1            7.8              0.88         0.00             2.6      0.098   \n",
       "2            7.8              0.76         0.04             2.3      0.092   \n",
       "3           11.2              0.28         0.56             1.9      0.075   \n",
       "4            7.4              0.70         0.00             1.9      0.076   \n",
       "\n",
       "   free sulfur dioxide  total sulfur dioxide  density    pH  sulphates  \\\n",
       "0                 11.0                  34.0   0.9978  3.51       0.56   \n",
       "1                 25.0                  67.0   0.9968  3.20       0.68   \n",
       "2                 15.0                  54.0   0.9970  3.26       0.65   \n",
       "3                 17.0                  60.0   0.9980  3.16       0.58   \n",
       "4                 11.0                  34.0   0.9978  3.51       0.56   \n",
       "\n",
       "   alcohol  quality  \n",
       "0      9.4        5  \n",
       "1      9.8        5  \n",
       "2      9.8        5  \n",
       "3      9.8        6  \n",
       "4      9.4        5  "
      ]
     },
     "execution_count": 11,
     "metadata": {},
     "output_type": "execute_result"
    }
   ],
   "source": [
    "df = pd.read_csv(\"winequality-red.csv\",sep=';')\n",
    "df.head()"
   ]
  },
  {
   "cell_type": "code",
   "execution_count": 12,
   "metadata": {
    "ExecuteTime": {
     "end_time": "2020-09-13T09:22:55.674710Z",
     "start_time": "2020-09-13T09:22:55.666442Z"
    }
   },
   "outputs": [
    {
     "data": {
      "text/plain": [
       "(1599, 12)"
      ]
     },
     "execution_count": 12,
     "metadata": {},
     "output_type": "execute_result"
    }
   ],
   "source": [
    "df.shape"
   ]
  },
  {
   "cell_type": "code",
   "execution_count": 13,
   "metadata": {
    "ExecuteTime": {
     "end_time": "2020-09-13T09:22:55.690686Z",
     "start_time": "2020-09-13T09:22:55.678979Z"
    }
   },
   "outputs": [],
   "source": [
    "# a mapping dictionary that maps the quality values from 0 to 5\n",
    "quality_mapping = { 3: 0,\n",
    "    4: 1,\n",
    "    5: 2,\n",
    "    6: 3,\n",
    "    7: 4,\n",
    "    8: 5\n",
    "}\n",
    "# you can use the map function of pandas with\n",
    "# any dictionary to convert the values in a given\n",
    "# column to values in the dictionary\n",
    "df.loc[:, \"quality\"] = df.quality.map(quality_mapping)"
   ]
  },
  {
   "cell_type": "code",
   "execution_count": 14,
   "metadata": {
    "ExecuteTime": {
     "end_time": "2020-09-13T09:22:55.725384Z",
     "start_time": "2020-09-13T09:22:55.695041Z"
    }
   },
   "outputs": [
    {
     "data": {
      "text/html": [
       "<div>\n",
       "<style scoped>\n",
       "    .dataframe tbody tr th:only-of-type {\n",
       "        vertical-align: middle;\n",
       "    }\n",
       "\n",
       "    .dataframe tbody tr th {\n",
       "        vertical-align: top;\n",
       "    }\n",
       "\n",
       "    .dataframe thead th {\n",
       "        text-align: right;\n",
       "    }\n",
       "</style>\n",
       "<table border=\"1\" class=\"dataframe\">\n",
       "  <thead>\n",
       "    <tr style=\"text-align: right;\">\n",
       "      <th></th>\n",
       "      <th>fixed acidity</th>\n",
       "      <th>volatile acidity</th>\n",
       "      <th>citric acid</th>\n",
       "      <th>residual sugar</th>\n",
       "      <th>chlorides</th>\n",
       "      <th>free sulfur dioxide</th>\n",
       "      <th>total sulfur dioxide</th>\n",
       "      <th>density</th>\n",
       "      <th>pH</th>\n",
       "      <th>sulphates</th>\n",
       "      <th>alcohol</th>\n",
       "      <th>quality</th>\n",
       "    </tr>\n",
       "  </thead>\n",
       "  <tbody>\n",
       "    <tr>\n",
       "      <th>0</th>\n",
       "      <td>7.4</td>\n",
       "      <td>0.70</td>\n",
       "      <td>0.00</td>\n",
       "      <td>1.9</td>\n",
       "      <td>0.076</td>\n",
       "      <td>11.0</td>\n",
       "      <td>34.0</td>\n",
       "      <td>0.9978</td>\n",
       "      <td>3.51</td>\n",
       "      <td>0.56</td>\n",
       "      <td>9.4</td>\n",
       "      <td>2</td>\n",
       "    </tr>\n",
       "    <tr>\n",
       "      <th>1</th>\n",
       "      <td>7.8</td>\n",
       "      <td>0.88</td>\n",
       "      <td>0.00</td>\n",
       "      <td>2.6</td>\n",
       "      <td>0.098</td>\n",
       "      <td>25.0</td>\n",
       "      <td>67.0</td>\n",
       "      <td>0.9968</td>\n",
       "      <td>3.20</td>\n",
       "      <td>0.68</td>\n",
       "      <td>9.8</td>\n",
       "      <td>2</td>\n",
       "    </tr>\n",
       "    <tr>\n",
       "      <th>2</th>\n",
       "      <td>7.8</td>\n",
       "      <td>0.76</td>\n",
       "      <td>0.04</td>\n",
       "      <td>2.3</td>\n",
       "      <td>0.092</td>\n",
       "      <td>15.0</td>\n",
       "      <td>54.0</td>\n",
       "      <td>0.9970</td>\n",
       "      <td>3.26</td>\n",
       "      <td>0.65</td>\n",
       "      <td>9.8</td>\n",
       "      <td>2</td>\n",
       "    </tr>\n",
       "    <tr>\n",
       "      <th>3</th>\n",
       "      <td>11.2</td>\n",
       "      <td>0.28</td>\n",
       "      <td>0.56</td>\n",
       "      <td>1.9</td>\n",
       "      <td>0.075</td>\n",
       "      <td>17.0</td>\n",
       "      <td>60.0</td>\n",
       "      <td>0.9980</td>\n",
       "      <td>3.16</td>\n",
       "      <td>0.58</td>\n",
       "      <td>9.8</td>\n",
       "      <td>3</td>\n",
       "    </tr>\n",
       "    <tr>\n",
       "      <th>4</th>\n",
       "      <td>7.4</td>\n",
       "      <td>0.70</td>\n",
       "      <td>0.00</td>\n",
       "      <td>1.9</td>\n",
       "      <td>0.076</td>\n",
       "      <td>11.0</td>\n",
       "      <td>34.0</td>\n",
       "      <td>0.9978</td>\n",
       "      <td>3.51</td>\n",
       "      <td>0.56</td>\n",
       "      <td>9.4</td>\n",
       "      <td>2</td>\n",
       "    </tr>\n",
       "  </tbody>\n",
       "</table>\n",
       "</div>"
      ],
      "text/plain": [
       "   fixed acidity  volatile acidity  citric acid  residual sugar  chlorides  \\\n",
       "0            7.4              0.70         0.00             1.9      0.076   \n",
       "1            7.8              0.88         0.00             2.6      0.098   \n",
       "2            7.8              0.76         0.04             2.3      0.092   \n",
       "3           11.2              0.28         0.56             1.9      0.075   \n",
       "4            7.4              0.70         0.00             1.9      0.076   \n",
       "\n",
       "   free sulfur dioxide  total sulfur dioxide  density    pH  sulphates  \\\n",
       "0                 11.0                  34.0   0.9978  3.51       0.56   \n",
       "1                 25.0                  67.0   0.9968  3.20       0.68   \n",
       "2                 15.0                  54.0   0.9970  3.26       0.65   \n",
       "3                 17.0                  60.0   0.9980  3.16       0.58   \n",
       "4                 11.0                  34.0   0.9978  3.51       0.56   \n",
       "\n",
       "   alcohol  quality  \n",
       "0      9.4        2  \n",
       "1      9.8        2  \n",
       "2      9.8        2  \n",
       "3      9.8        3  \n",
       "4      9.4        2  "
      ]
     },
     "execution_count": 14,
     "metadata": {},
     "output_type": "execute_result"
    }
   ],
   "source": [
    "df.head()"
   ]
  },
  {
   "cell_type": "code",
   "execution_count": 15,
   "metadata": {
    "ExecuteTime": {
     "end_time": "2020-09-13T09:22:55.741216Z",
     "start_time": "2020-09-13T09:22:55.729871Z"
    }
   },
   "outputs": [],
   "source": [
    "# Splitting can be done easily by the following chunk of code\n",
    "# use sample with frac=1 to shuffle the dataframe\n",
    "# we reset the indices since they change after\n",
    "# shuffling the dataframe\n",
    "df = df.sample(frac=1).reset_index(drop=True)\n",
    "# top 1000 rows are selected # for training\n",
    "df_train = df.head(1000)\n",
    "# bottom 599 values are selected\n",
    "# for testing/validation\n",
    "df_test = df.tail(599)"
   ]
  },
  {
   "cell_type": "markdown",
   "metadata": {},
   "source": [
    "**We will now train a decision tree model on the training set. For the decision tree model**"
   ]
  },
  {
   "cell_type": "code",
   "execution_count": 16,
   "metadata": {
    "ExecuteTime": {
     "end_time": "2020-09-13T09:22:55.954023Z",
     "start_time": "2020-09-13T09:22:55.746623Z"
    }
   },
   "outputs": [
    {
     "data": {
      "text/plain": [
       "DecisionTreeClassifier(ccp_alpha=0.0, class_weight=None, criterion='gini',\n",
       "                       max_depth=7, max_features=None, max_leaf_nodes=None,\n",
       "                       min_impurity_decrease=0.0, min_impurity_split=None,\n",
       "                       min_samples_leaf=1, min_samples_split=2,\n",
       "                       min_weight_fraction_leaf=0.0, presort='deprecated',\n",
       "                       random_state=None, splitter='best')"
      ]
     },
     "execution_count": 16,
     "metadata": {},
     "output_type": "execute_result"
    }
   ],
   "source": [
    "# import from scikit-learn\n",
    "from sklearn import tree\n",
    "from sklearn import metrics\n",
    "# initialize decision tree classifier class\n",
    "# with a max_depth of 3\n",
    "clf = tree.DecisionTreeClassifier(max_depth=7)\n",
    "# choose the columns you want to train on # these are the features for the model\n",
    "cols = ['fixed acidity',\n",
    "        'volatile acidity', 'citric acid', 'residual sugar', 'chlorides',\n",
    "        'free sulfur dioxide', 'total sulfur dioxide', 'density',\n",
    "        'pH', 'sulphates', 'alcohol']\n",
    "# train the model on the provided features\n",
    "# and mapped quality from before\n",
    "clf.fit(df_train[cols], df_train.quality)"
   ]
  },
  {
   "cell_type": "code",
   "execution_count": 17,
   "metadata": {
    "ExecuteTime": {
     "end_time": "2020-09-13T09:22:55.976414Z",
     "start_time": "2020-09-13T09:22:55.958166Z"
    }
   },
   "outputs": [],
   "source": [
    "# we test the accuracy of this model on the training set and the test set\n",
    "# generate predictions on the training set\n",
    "train_predictions = clf.predict(df_train[cols])\n",
    "# generate predictions on the test set\n",
    "test_predictions = clf.predict(df_test[cols])\n",
    "# calculate the accuracy of predictions on # training data set\n",
    "train_accuracy = metrics.accuracy_score(\n",
    "df_train.quality, train_predictions )\n",
    "# calculate the accuracy of predictions on\n",
    "# test data set\n",
    "test_accuracy = metrics.accuracy_score(\n",
    "df_test.quality, test_predictions )"
   ]
  },
  {
   "cell_type": "code",
   "execution_count": 18,
   "metadata": {
    "ExecuteTime": {
     "end_time": "2020-09-13T09:22:55.991703Z",
     "start_time": "2020-09-13T09:22:55.981387Z"
    }
   },
   "outputs": [
    {
     "name": "stdout",
     "output_type": "stream",
     "text": [
      "0.774\n"
     ]
    }
   ],
   "source": [
    "# train & test accuracy with max_depth of 3\n",
    "print(train_accuracy)"
   ]
  },
  {
   "cell_type": "code",
   "execution_count": 19,
   "metadata": {
    "ExecuteTime": {
     "end_time": "2020-09-13T09:22:56.007406Z",
     "start_time": "2020-09-13T09:22:55.996283Z"
    }
   },
   "outputs": [
    {
     "name": "stdout",
     "output_type": "stream",
     "text": [
      "0.5742904841402338\n"
     ]
    }
   ],
   "source": [
    "print(test_accuracy)"
   ]
  },
  {
   "cell_type": "code",
   "execution_count": 20,
   "metadata": {
    "ExecuteTime": {
     "end_time": "2020-09-13T09:22:56.019444Z",
     "start_time": "2020-09-13T09:22:56.012228Z"
    }
   },
   "outputs": [
    {
     "name": "stdout",
     "output_type": "stream",
     "text": [
      "0.774\n",
      "0.5742904841402338\n"
     ]
    }
   ],
   "source": [
    "# train & test accuracy with max_depth of 7\n",
    "print(train_accuracy)\n",
    "print(test_accuracy)"
   ]
  },
  {
   "cell_type": "code",
   "execution_count": 21,
   "metadata": {
    "ExecuteTime": {
     "end_time": "2020-09-13T09:22:56.030723Z",
     "start_time": "2020-09-13T09:22:56.023704Z"
    }
   },
   "outputs": [],
   "source": [
    "# import scikit-learn tree and metrics\n",
    "from sklearn import tree \n",
    "from sklearn import metrics\n",
    "# import matplotlib and seaborn # for plotting\n",
    "import matplotlib\n",
    "import matplotlib.pyplot as plt \n",
    "import seaborn as sns"
   ]
  },
  {
   "cell_type": "code",
   "execution_count": 22,
   "metadata": {
    "ExecuteTime": {
     "end_time": "2020-09-13T09:22:56.580340Z",
     "start_time": "2020-09-13T09:22:56.036967Z"
    }
   },
   "outputs": [
    {
     "data": {
      "image/png": "[encoded data removed]",
      "text/plain": [
       "<Figure size 720x360 with 1 Axes>"
      ]
     },
     "metadata": {
      "needs_background": "light"
     },
     "output_type": "display_data"
    }
   ],
   "source": [
    "# this is our global size of label text # on the plots\n",
    "matplotlib.rc('xtick', labelsize=20) \n",
    "matplotlib.rc('ytick', labelsize=20)\n",
    "# This line ensures that the plot is displayed # inside the notebook\n",
    "%matplotlib inline\n",
    "# initialize lists to store accuracies # for training and test data\n",
    "# we start with 50% accuracy \n",
    "train_accuracies = [0.5] \n",
    "test_accuracies = [0.5]\n",
    "# iterate over a few depth values\n",
    "for depth in range(1, 25):\n",
    "    # init the model\n",
    "    clf = tree.DecisionTreeClassifier(max_depth=depth)\n",
    "# columns/features for training\n",
    "# note that, this can be done outside # the loop\n",
    "cols = [\n",
    "    'fixed acidity', 'volatile acidity', 'citric acid', 'residual sugar', 'chlorides',\n",
    "    'free sulfur dioxide', 'total sulfur dioxide', 'density',\n",
    "    'pH',\n",
    "    'sulphates', 'alcohol'\n",
    "]\n",
    "# fit the model on given features\n",
    "clf.fit(df_train[cols], df_train.quality)\n",
    "# create training & test predictions\n",
    "train_predictions = clf.predict(df_train[cols]) \n",
    "test_predictions = clf.predict(df_test[cols])\n",
    "# calculate training & test accuracies\n",
    "train_accuracy = metrics.accuracy_score( df_train.quality, train_predictions\n",
    ")\n",
    "test_accuracy = metrics.accuracy_score(\n",
    "df_test.quality, test_predictions )\n",
    "# append accuracies\n",
    "train_accuracies.append(train_accuracy) \n",
    "test_accuracies.append(test_accuracy)\n",
    "\n",
    "# create two plots using matplotlib\n",
    "# and seaborn\n",
    "plt.figure(figsize=(10, 5)) \n",
    "sns.set_style(\"whitegrid\") \n",
    "plt.plot(train_accuracies, label=\"train accuracy\") \n",
    "plt.plot(test_accuracies, label=\"test accuracy\") \n",
    "plt.legend(loc=\"upper left\", prop={'size': 15}) \n",
    "plt.xticks(range(0, 26, 5)) \n",
    "plt.xlabel(\"max_depth\", size=20) \n",
    "plt.ylabel(\"accuracy\", size=20)\n",
    "plt.show()"
   ]
  },
  {
   "cell_type": "markdown",
   "metadata": {},
   "source": [
    "**Occam’s razor**\n",
    "\n",
    "*Occam's razor states that one should not try to complicate things that can be solved in a much simpler manner. In other words, the simplest solutions are the most generalizable solutions.*"
   ]
  },
  {
   "cell_type": "markdown",
   "metadata": {},
   "source": [
    "**Cross-validation techniques**\n",
    "\n",
    "k-fold cross-validation\n",
    "\n",
    "stratified k-fold cross-validation\n",
    "\n",
    "hold-out based validation\n",
    "\n",
    "leave-one-out cross-validation\n",
    "\n",
    "group k-fold cross-validation"
   ]
  },
  {
   "cell_type": "code",
   "execution_count": 23,
   "metadata": {
    "ExecuteTime": {
     "end_time": "2020-09-13T09:22:56.639442Z",
     "start_time": "2020-09-13T09:22:56.592371Z"
    }
   },
   "outputs": [],
   "source": [
    "# We can split any data into k-equal parts using KFold from scikit-learn\n",
    "# import pandas and model_selection module of scikit-learn\n",
    "import pandas as pd\n",
    "from sklearn import model_selection\n",
    "if __name__ == \"__main__\":\n",
    "# Training data is in a CSV file called train.csv \n",
    "    df = pd.read_csv(\"train.csv\")\n",
    "# we create a new column called kfold and fill it with -1\n",
    "    df[\"kfold\"] = -1\n",
    "    # the next step is to randomize the rows of the data\n",
    "    df = df.sample(frac=1).reset_index(drop=True)\n",
    "    # initiate the kfold class from model_selection module\n",
    "    kf = model_selection.KFold(n_splits=5)\n",
    "    # fill the new kfold column\n",
    "    for fold, (trn_, val_) in enumerate(kf.split(X=df)): \n",
    "        df.loc[val_, 'kfold'] = fold\n",
    "# save the new csv with kfold column\n",
    "df.to_csv(\"train_folds.csv\", index=False)"
   ]
  },
  {
   "cell_type": "code",
   "execution_count": 24,
   "metadata": {
    "ExecuteTime": {
     "end_time": "2020-09-13T09:22:56.688242Z",
     "start_time": "2020-09-13T09:22:56.647671Z"
    }
   },
   "outputs": [
    {
     "data": {
      "text/html": [
       "<div>\n",
       "<style scoped>\n",
       "    .dataframe tbody tr th:only-of-type {\n",
       "        vertical-align: middle;\n",
       "    }\n",
       "\n",
       "    .dataframe tbody tr th {\n",
       "        vertical-align: top;\n",
       "    }\n",
       "\n",
       "    .dataframe thead th {\n",
       "        text-align: right;\n",
       "    }\n",
       "</style>\n",
       "<table border=\"1\" class=\"dataframe\">\n",
       "  <thead>\n",
       "    <tr style=\"text-align: right;\">\n",
       "      <th></th>\n",
       "      <th>PassengerId</th>\n",
       "      <th>Survived</th>\n",
       "      <th>Pclass</th>\n",
       "      <th>Name</th>\n",
       "      <th>Sex</th>\n",
       "      <th>Age</th>\n",
       "      <th>SibSp</th>\n",
       "      <th>Parch</th>\n",
       "      <th>Ticket</th>\n",
       "      <th>Fare</th>\n",
       "      <th>Cabin</th>\n",
       "      <th>Embarked</th>\n",
       "      <th>kfold</th>\n",
       "    </tr>\n",
       "  </thead>\n",
       "  <tbody>\n",
       "    <tr>\n",
       "      <th>0</th>\n",
       "      <td>8</td>\n",
       "      <td>0</td>\n",
       "      <td>3</td>\n",
       "      <td>Palsson, Master. Gosta Leonard</td>\n",
       "      <td>male</td>\n",
       "      <td>2.00</td>\n",
       "      <td>3</td>\n",
       "      <td>1</td>\n",
       "      <td>349909</td>\n",
       "      <td>21.0750</td>\n",
       "      <td>NaN</td>\n",
       "      <td>S</td>\n",
       "      <td>0</td>\n",
       "    </tr>\n",
       "    <tr>\n",
       "      <th>1</th>\n",
       "      <td>436</td>\n",
       "      <td>1</td>\n",
       "      <td>1</td>\n",
       "      <td>Carter, Miss. Lucile Polk</td>\n",
       "      <td>female</td>\n",
       "      <td>14.00</td>\n",
       "      <td>1</td>\n",
       "      <td>2</td>\n",
       "      <td>113760</td>\n",
       "      <td>120.0000</td>\n",
       "      <td>B96 B98</td>\n",
       "      <td>S</td>\n",
       "      <td>0</td>\n",
       "    </tr>\n",
       "    <tr>\n",
       "      <th>2</th>\n",
       "      <td>20</td>\n",
       "      <td>1</td>\n",
       "      <td>3</td>\n",
       "      <td>Masselmani, Mrs. Fatima</td>\n",
       "      <td>female</td>\n",
       "      <td>NaN</td>\n",
       "      <td>0</td>\n",
       "      <td>0</td>\n",
       "      <td>2649</td>\n",
       "      <td>7.2250</td>\n",
       "      <td>NaN</td>\n",
       "      <td>C</td>\n",
       "      <td>0</td>\n",
       "    </tr>\n",
       "    <tr>\n",
       "      <th>3</th>\n",
       "      <td>138</td>\n",
       "      <td>0</td>\n",
       "      <td>1</td>\n",
       "      <td>Futrelle, Mr. Jacques Heath</td>\n",
       "      <td>male</td>\n",
       "      <td>37.00</td>\n",
       "      <td>1</td>\n",
       "      <td>0</td>\n",
       "      <td>113803</td>\n",
       "      <td>53.1000</td>\n",
       "      <td>C123</td>\n",
       "      <td>S</td>\n",
       "      <td>0</td>\n",
       "    </tr>\n",
       "    <tr>\n",
       "      <th>4</th>\n",
       "      <td>804</td>\n",
       "      <td>1</td>\n",
       "      <td>3</td>\n",
       "      <td>Thomas, Master. Assad Alexander</td>\n",
       "      <td>male</td>\n",
       "      <td>0.42</td>\n",
       "      <td>0</td>\n",
       "      <td>1</td>\n",
       "      <td>2625</td>\n",
       "      <td>8.5167</td>\n",
       "      <td>NaN</td>\n",
       "      <td>C</td>\n",
       "      <td>0</td>\n",
       "    </tr>\n",
       "  </tbody>\n",
       "</table>\n",
       "</div>"
      ],
      "text/plain": [
       "   PassengerId  Survived  Pclass                             Name     Sex  \\\n",
       "0            8         0       3   Palsson, Master. Gosta Leonard    male   \n",
       "1          436         1       1        Carter, Miss. Lucile Polk  female   \n",
       "2           20         1       3          Masselmani, Mrs. Fatima  female   \n",
       "3          138         0       1      Futrelle, Mr. Jacques Heath    male   \n",
       "4          804         1       3  Thomas, Master. Assad Alexander    male   \n",
       "\n",
       "     Age  SibSp  Parch  Ticket      Fare    Cabin Embarked  kfold  \n",
       "0   2.00      3      1  349909   21.0750      NaN        S      0  \n",
       "1  14.00      1      2  113760  120.0000  B96 B98        S      0  \n",
       "2    NaN      0      0    2649    7.2250      NaN        C      0  \n",
       "3  37.00      1      0  113803   53.1000     C123        S      0  \n",
       "4   0.42      0      1    2625    8.5167      NaN        C      0  "
      ]
     },
     "execution_count": 24,
     "metadata": {},
     "output_type": "execute_result"
    }
   ],
   "source": [
    "df_fold = ('train_folds.csv')\n",
    "df_fold = pd.read_csv(df_fold)\n",
    "df_fold.head()"
   ]
  },
  {
   "cell_type": "code",
   "execution_count": 25,
   "metadata": {
    "ExecuteTime": {
     "end_time": "2020-09-13T09:22:56.738126Z",
     "start_time": "2020-09-13T09:22:56.692243Z"
    }
   },
   "outputs": [],
   "source": [
    "# The next important type of cross-validation is stratified k-fold\n",
    "# Stratified k-fold cross-validation keeps the ratio of labels in each fold constant\n",
    "# import pandas and model_selection module of scikit-learn\n",
    "import pandas as pd\n",
    "from sklearn import model_selection\n",
    "if __name__ == \"__main__\":\n",
    "# Training data is in a csv file called train.csv \n",
    "    df = pd.read_csv(\"train_1.csv\")\n",
    "# we create a new column called kfold and fill it with -1\n",
    "    df[\"kfold\"] = -1\n",
    "    # the next step is to randomize the rows of the data\n",
    "    df = df.sample(frac=1).reset_index(drop=True) # fetch targets\n",
    "    y = df.target.values\n",
    "    # initiate the kfold class from model_selection module\n",
    "    kf = model_selection.StratifiedKFold(n_splits=5)\n",
    "# fill the new kfold column\n",
    "    for f, (t_, v_) in enumerate(kf.split(X=df, y=y)): \n",
    "        df.loc[v_, 'kfold'] = f\n",
    "# save the new csv with kfold column\n",
    "df.to_csv(\"train_folds.csv\", index=False)"
   ]
  },
  {
   "cell_type": "code",
   "execution_count": 26,
   "metadata": {
    "ExecuteTime": {
     "end_time": "2020-09-13T09:22:56.779577Z",
     "start_time": "2020-09-13T09:22:56.741629Z"
    }
   },
   "outputs": [
    {
     "data": {
      "text/html": [
       "<div>\n",
       "<style scoped>\n",
       "    .dataframe tbody tr th:only-of-type {\n",
       "        vertical-align: middle;\n",
       "    }\n",
       "\n",
       "    .dataframe tbody tr th {\n",
       "        vertical-align: top;\n",
       "    }\n",
       "\n",
       "    .dataframe thead th {\n",
       "        text-align: right;\n",
       "    }\n",
       "</style>\n",
       "<table border=\"1\" class=\"dataframe\">\n",
       "  <thead>\n",
       "    <tr style=\"text-align: right;\">\n",
       "      <th></th>\n",
       "      <th>PassengerId</th>\n",
       "      <th>target</th>\n",
       "      <th>Pclass</th>\n",
       "      <th>Name</th>\n",
       "      <th>Sex</th>\n",
       "      <th>Age</th>\n",
       "      <th>SibSp</th>\n",
       "      <th>Parch</th>\n",
       "      <th>Ticket</th>\n",
       "      <th>Fare</th>\n",
       "      <th>Cabin</th>\n",
       "      <th>Embarked</th>\n",
       "      <th>kfold</th>\n",
       "    </tr>\n",
       "  </thead>\n",
       "  <tbody>\n",
       "    <tr>\n",
       "      <th>0</th>\n",
       "      <td>77</td>\n",
       "      <td>0</td>\n",
       "      <td>3</td>\n",
       "      <td>Staneff, Mr. Ivan</td>\n",
       "      <td>male</td>\n",
       "      <td>NaN</td>\n",
       "      <td>0</td>\n",
       "      <td>0</td>\n",
       "      <td>349208</td>\n",
       "      <td>7.8958</td>\n",
       "      <td>NaN</td>\n",
       "      <td>S</td>\n",
       "      <td>0</td>\n",
       "    </tr>\n",
       "    <tr>\n",
       "      <th>1</th>\n",
       "      <td>243</td>\n",
       "      <td>0</td>\n",
       "      <td>2</td>\n",
       "      <td>Coleridge, Mr. Reginald Charles</td>\n",
       "      <td>male</td>\n",
       "      <td>29.0</td>\n",
       "      <td>0</td>\n",
       "      <td>0</td>\n",
       "      <td>W./C. 14263</td>\n",
       "      <td>10.5000</td>\n",
       "      <td>NaN</td>\n",
       "      <td>S</td>\n",
       "      <td>0</td>\n",
       "    </tr>\n",
       "    <tr>\n",
       "      <th>2</th>\n",
       "      <td>592</td>\n",
       "      <td>1</td>\n",
       "      <td>1</td>\n",
       "      <td>Stephenson, Mrs. Walter Bertram (Martha Eustis)</td>\n",
       "      <td>female</td>\n",
       "      <td>52.0</td>\n",
       "      <td>1</td>\n",
       "      <td>0</td>\n",
       "      <td>36947</td>\n",
       "      <td>78.2667</td>\n",
       "      <td>D20</td>\n",
       "      <td>C</td>\n",
       "      <td>0</td>\n",
       "    </tr>\n",
       "    <tr>\n",
       "      <th>3</th>\n",
       "      <td>716</td>\n",
       "      <td>0</td>\n",
       "      <td>3</td>\n",
       "      <td>Soholt, Mr. Peter Andreas Lauritz Andersen</td>\n",
       "      <td>male</td>\n",
       "      <td>19.0</td>\n",
       "      <td>0</td>\n",
       "      <td>0</td>\n",
       "      <td>348124</td>\n",
       "      <td>7.6500</td>\n",
       "      <td>F G73</td>\n",
       "      <td>S</td>\n",
       "      <td>0</td>\n",
       "    </tr>\n",
       "    <tr>\n",
       "      <th>4</th>\n",
       "      <td>811</td>\n",
       "      <td>0</td>\n",
       "      <td>3</td>\n",
       "      <td>Alexander, Mr. William</td>\n",
       "      <td>male</td>\n",
       "      <td>26.0</td>\n",
       "      <td>0</td>\n",
       "      <td>0</td>\n",
       "      <td>3474</td>\n",
       "      <td>7.8875</td>\n",
       "      <td>NaN</td>\n",
       "      <td>S</td>\n",
       "      <td>0</td>\n",
       "    </tr>\n",
       "  </tbody>\n",
       "</table>\n",
       "</div>"
      ],
      "text/plain": [
       "   PassengerId  target  Pclass  \\\n",
       "0           77       0       3   \n",
       "1          243       0       2   \n",
       "2          592       1       1   \n",
       "3          716       0       3   \n",
       "4          811       0       3   \n",
       "\n",
       "                                              Name     Sex   Age  SibSp  \\\n",
       "0                                Staneff, Mr. Ivan    male   NaN      0   \n",
       "1                  Coleridge, Mr. Reginald Charles    male  29.0      0   \n",
       "2  Stephenson, Mrs. Walter Bertram (Martha Eustis)  female  52.0      1   \n",
       "3       Soholt, Mr. Peter Andreas Lauritz Andersen    male  19.0      0   \n",
       "4                           Alexander, Mr. William    male  26.0      0   \n",
       "\n",
       "   Parch       Ticket     Fare  Cabin Embarked  kfold  \n",
       "0      0       349208   7.8958    NaN        S      0  \n",
       "1      0  W./C. 14263  10.5000    NaN        S      0  \n",
       "2      0        36947  78.2667    D20        C      0  \n",
       "3      0       348124   7.6500  F G73        S      0  \n",
       "4      0         3474   7.8875    NaN        S      0  "
      ]
     },
     "execution_count": 26,
     "metadata": {},
     "output_type": "execute_result"
    }
   ],
   "source": [
    "df_fold = ('train_folds.csv')\n",
    "df_fold = pd.read_csv(df_fold)\n",
    "df_fold.head()"
   ]
  },
  {
   "cell_type": "code",
   "execution_count": 27,
   "metadata": {
    "ExecuteTime": {
     "end_time": "2020-09-13T09:22:56.831305Z",
     "start_time": "2020-09-13T09:22:56.783448Z"
    }
   },
   "outputs": [
    {
     "data": {
      "text/html": [
       "<div>\n",
       "<style scoped>\n",
       "    .dataframe tbody tr th:only-of-type {\n",
       "        vertical-align: middle;\n",
       "    }\n",
       "\n",
       "    .dataframe tbody tr th {\n",
       "        vertical-align: top;\n",
       "    }\n",
       "\n",
       "    .dataframe thead th {\n",
       "        text-align: right;\n",
       "    }\n",
       "</style>\n",
       "<table border=\"1\" class=\"dataframe\">\n",
       "  <thead>\n",
       "    <tr style=\"text-align: right;\">\n",
       "      <th></th>\n",
       "      <th>PassengerId</th>\n",
       "      <th>target</th>\n",
       "      <th>Pclass</th>\n",
       "      <th>Name</th>\n",
       "      <th>Sex</th>\n",
       "      <th>Age</th>\n",
       "      <th>SibSp</th>\n",
       "      <th>Parch</th>\n",
       "      <th>Ticket</th>\n",
       "      <th>Fare</th>\n",
       "      <th>Cabin</th>\n",
       "      <th>Embarked</th>\n",
       "      <th>kfold</th>\n",
       "    </tr>\n",
       "  </thead>\n",
       "  <tbody>\n",
       "    <tr>\n",
       "      <th>0</th>\n",
       "      <td>77</td>\n",
       "      <td>0</td>\n",
       "      <td>3</td>\n",
       "      <td>Staneff, Mr. Ivan</td>\n",
       "      <td>male</td>\n",
       "      <td>NaN</td>\n",
       "      <td>0</td>\n",
       "      <td>0</td>\n",
       "      <td>349208</td>\n",
       "      <td>7.8958</td>\n",
       "      <td>NaN</td>\n",
       "      <td>S</td>\n",
       "      <td>0</td>\n",
       "    </tr>\n",
       "    <tr>\n",
       "      <th>1</th>\n",
       "      <td>243</td>\n",
       "      <td>0</td>\n",
       "      <td>2</td>\n",
       "      <td>Coleridge, Mr. Reginald Charles</td>\n",
       "      <td>male</td>\n",
       "      <td>29.0</td>\n",
       "      <td>0</td>\n",
       "      <td>0</td>\n",
       "      <td>W./C. 14263</td>\n",
       "      <td>10.5000</td>\n",
       "      <td>NaN</td>\n",
       "      <td>S</td>\n",
       "      <td>0</td>\n",
       "    </tr>\n",
       "    <tr>\n",
       "      <th>2</th>\n",
       "      <td>592</td>\n",
       "      <td>1</td>\n",
       "      <td>1</td>\n",
       "      <td>Stephenson, Mrs. Walter Bertram (Martha Eustis)</td>\n",
       "      <td>female</td>\n",
       "      <td>52.0</td>\n",
       "      <td>1</td>\n",
       "      <td>0</td>\n",
       "      <td>36947</td>\n",
       "      <td>78.2667</td>\n",
       "      <td>D20</td>\n",
       "      <td>C</td>\n",
       "      <td>0</td>\n",
       "    </tr>\n",
       "    <tr>\n",
       "      <th>3</th>\n",
       "      <td>716</td>\n",
       "      <td>0</td>\n",
       "      <td>3</td>\n",
       "      <td>Soholt, Mr. Peter Andreas Lauritz Andersen</td>\n",
       "      <td>male</td>\n",
       "      <td>19.0</td>\n",
       "      <td>0</td>\n",
       "      <td>0</td>\n",
       "      <td>348124</td>\n",
       "      <td>7.6500</td>\n",
       "      <td>F G73</td>\n",
       "      <td>S</td>\n",
       "      <td>0</td>\n",
       "    </tr>\n",
       "    <tr>\n",
       "      <th>4</th>\n",
       "      <td>811</td>\n",
       "      <td>0</td>\n",
       "      <td>3</td>\n",
       "      <td>Alexander, Mr. William</td>\n",
       "      <td>male</td>\n",
       "      <td>26.0</td>\n",
       "      <td>0</td>\n",
       "      <td>0</td>\n",
       "      <td>3474</td>\n",
       "      <td>7.8875</td>\n",
       "      <td>NaN</td>\n",
       "      <td>S</td>\n",
       "      <td>0</td>\n",
       "    </tr>\n",
       "    <tr>\n",
       "      <th>...</th>\n",
       "      <td>...</td>\n",
       "      <td>...</td>\n",
       "      <td>...</td>\n",
       "      <td>...</td>\n",
       "      <td>...</td>\n",
       "      <td>...</td>\n",
       "      <td>...</td>\n",
       "      <td>...</td>\n",
       "      <td>...</td>\n",
       "      <td>...</td>\n",
       "      <td>...</td>\n",
       "      <td>...</td>\n",
       "      <td>...</td>\n",
       "    </tr>\n",
       "    <tr>\n",
       "      <th>886</th>\n",
       "      <td>762</td>\n",
       "      <td>0</td>\n",
       "      <td>3</td>\n",
       "      <td>Nirva, Mr. Iisakki Antino Aijo</td>\n",
       "      <td>male</td>\n",
       "      <td>41.0</td>\n",
       "      <td>0</td>\n",
       "      <td>0</td>\n",
       "      <td>SOTON/O2 3101272</td>\n",
       "      <td>7.1250</td>\n",
       "      <td>NaN</td>\n",
       "      <td>S</td>\n",
       "      <td>4</td>\n",
       "    </tr>\n",
       "    <tr>\n",
       "      <th>887</th>\n",
       "      <td>228</td>\n",
       "      <td>0</td>\n",
       "      <td>3</td>\n",
       "      <td>Lovell, Mr. John Hall (\"Henry\")</td>\n",
       "      <td>male</td>\n",
       "      <td>20.5</td>\n",
       "      <td>0</td>\n",
       "      <td>0</td>\n",
       "      <td>A/5 21173</td>\n",
       "      <td>7.2500</td>\n",
       "      <td>NaN</td>\n",
       "      <td>S</td>\n",
       "      <td>4</td>\n",
       "    </tr>\n",
       "    <tr>\n",
       "      <th>888</th>\n",
       "      <td>374</td>\n",
       "      <td>0</td>\n",
       "      <td>1</td>\n",
       "      <td>Ringhini, Mr. Sante</td>\n",
       "      <td>male</td>\n",
       "      <td>22.0</td>\n",
       "      <td>0</td>\n",
       "      <td>0</td>\n",
       "      <td>PC 17760</td>\n",
       "      <td>135.6333</td>\n",
       "      <td>NaN</td>\n",
       "      <td>C</td>\n",
       "      <td>4</td>\n",
       "    </tr>\n",
       "    <tr>\n",
       "      <th>889</th>\n",
       "      <td>855</td>\n",
       "      <td>0</td>\n",
       "      <td>2</td>\n",
       "      <td>Carter, Mrs. Ernest Courtenay (Lilian Hughes)</td>\n",
       "      <td>female</td>\n",
       "      <td>44.0</td>\n",
       "      <td>1</td>\n",
       "      <td>0</td>\n",
       "      <td>244252</td>\n",
       "      <td>26.0000</td>\n",
       "      <td>NaN</td>\n",
       "      <td>S</td>\n",
       "      <td>4</td>\n",
       "    </tr>\n",
       "    <tr>\n",
       "      <th>890</th>\n",
       "      <td>369</td>\n",
       "      <td>1</td>\n",
       "      <td>3</td>\n",
       "      <td>Jermyn, Miss. Annie</td>\n",
       "      <td>female</td>\n",
       "      <td>NaN</td>\n",
       "      <td>0</td>\n",
       "      <td>0</td>\n",
       "      <td>14313</td>\n",
       "      <td>7.7500</td>\n",
       "      <td>NaN</td>\n",
       "      <td>Q</td>\n",
       "      <td>4</td>\n",
       "    </tr>\n",
       "  </tbody>\n",
       "</table>\n",
       "<p>891 rows × 13 columns</p>\n",
       "</div>"
      ],
      "text/plain": [
       "     PassengerId  target  Pclass  \\\n",
       "0             77       0       3   \n",
       "1            243       0       2   \n",
       "2            592       1       1   \n",
       "3            716       0       3   \n",
       "4            811       0       3   \n",
       "..           ...     ...     ...   \n",
       "886          762       0       3   \n",
       "887          228       0       3   \n",
       "888          374       0       1   \n",
       "889          855       0       2   \n",
       "890          369       1       3   \n",
       "\n",
       "                                                Name     Sex   Age  SibSp  \\\n",
       "0                                  Staneff, Mr. Ivan    male   NaN      0   \n",
       "1                    Coleridge, Mr. Reginald Charles    male  29.0      0   \n",
       "2    Stephenson, Mrs. Walter Bertram (Martha Eustis)  female  52.0      1   \n",
       "3         Soholt, Mr. Peter Andreas Lauritz Andersen    male  19.0      0   \n",
       "4                             Alexander, Mr. William    male  26.0      0   \n",
       "..                                               ...     ...   ...    ...   \n",
       "886                   Nirva, Mr. Iisakki Antino Aijo    male  41.0      0   \n",
       "887                  Lovell, Mr. John Hall (\"Henry\")    male  20.5      0   \n",
       "888                              Ringhini, Mr. Sante    male  22.0      0   \n",
       "889    Carter, Mrs. Ernest Courtenay (Lilian Hughes)  female  44.0      1   \n",
       "890                              Jermyn, Miss. Annie  female   NaN      0   \n",
       "\n",
       "     Parch            Ticket      Fare  Cabin Embarked  kfold  \n",
       "0        0            349208    7.8958    NaN        S      0  \n",
       "1        0       W./C. 14263   10.5000    NaN        S      0  \n",
       "2        0             36947   78.2667    D20        C      0  \n",
       "3        0            348124    7.6500  F G73        S      0  \n",
       "4        0              3474    7.8875    NaN        S      0  \n",
       "..     ...               ...       ...    ...      ...    ...  \n",
       "886      0  SOTON/O2 3101272    7.1250    NaN        S      4  \n",
       "887      0         A/5 21173    7.2500    NaN        S      4  \n",
       "888      0          PC 17760  135.6333    NaN        C      4  \n",
       "889      0            244252   26.0000    NaN        S      4  \n",
       "890      0             14313    7.7500    NaN        Q      4  \n",
       "\n",
       "[891 rows x 13 columns]"
      ]
     },
     "execution_count": 27,
     "metadata": {},
     "output_type": "execute_result"
    }
   ],
   "source": [
    "df"
   ]
  },
  {
   "cell_type": "code",
   "execution_count": 28,
   "metadata": {
    "ExecuteTime": {
     "end_time": "2020-09-13T09:22:56.846243Z",
     "start_time": "2020-09-13T09:22:56.836379Z"
    }
   },
   "outputs": [
    {
     "data": {
      "text/plain": [
       "Index(['PassengerId', 'target', 'Pclass', 'Name', 'Sex', 'Age', 'SibSp',\n",
       "       'Parch', 'Ticket', 'Fare', 'Cabin', 'Embarked', 'kfold'],\n",
       "      dtype='object')"
      ]
     },
     "execution_count": 28,
     "metadata": {},
     "output_type": "execute_result"
    }
   ],
   "source": [
    "df_fold.columns"
   ]
  },
  {
   "cell_type": "code",
   "execution_count": 29,
   "metadata": {
    "ExecuteTime": {
     "end_time": "2020-09-13T09:22:57.145253Z",
     "start_time": "2020-09-13T09:22:56.850505Z"
    }
   },
   "outputs": [
    {
     "data": {
      "text/plain": [
       "Text(0, 0.5, 'count')"
      ]
     },
     "execution_count": 29,
     "metadata": {},
     "output_type": "execute_result"
    },
    {
     "data": {
      "image/png": "[encoded data removed]",
      "text/plain": [
       "<Figure size 432x288 with 1 Axes>"
      ]
     },
     "metadata": {},
     "output_type": "display_data"
    }
   ],
   "source": [
    "# Can I check the distribution of the titanic dataset?\n",
    "b = sns.countplot(x='Sex', data=df_fold)\n",
    "b.set_xlabel(\"quality\", fontsize=20)\n",
    "b.set_ylabel(\"count\", fontsize=20)"
   ]
  },
  {
   "cell_type": "code",
   "execution_count": 30,
   "metadata": {
    "ExecuteTime": {
     "end_time": "2020-09-13T09:22:57.190089Z",
     "start_time": "2020-09-13T09:22:57.149609Z"
    }
   },
   "outputs": [
    {
     "data": {
      "text/html": [
       "<div>\n",
       "<style scoped>\n",
       "    .dataframe tbody tr th:only-of-type {\n",
       "        vertical-align: middle;\n",
       "    }\n",
       "\n",
       "    .dataframe tbody tr th {\n",
       "        vertical-align: top;\n",
       "    }\n",
       "\n",
       "    .dataframe thead th {\n",
       "        text-align: right;\n",
       "    }\n",
       "</style>\n",
       "<table border=\"1\" class=\"dataframe\">\n",
       "  <thead>\n",
       "    <tr style=\"text-align: right;\">\n",
       "      <th></th>\n",
       "      <th>fixed acidity</th>\n",
       "      <th>volatile acidity</th>\n",
       "      <th>citric acid</th>\n",
       "      <th>residual sugar</th>\n",
       "      <th>chlorides</th>\n",
       "      <th>free sulfur dioxide</th>\n",
       "      <th>total sulfur dioxide</th>\n",
       "      <th>density</th>\n",
       "      <th>pH</th>\n",
       "      <th>sulphates</th>\n",
       "      <th>alcohol</th>\n",
       "      <th>quality</th>\n",
       "    </tr>\n",
       "  </thead>\n",
       "  <tbody>\n",
       "    <tr>\n",
       "      <th>0</th>\n",
       "      <td>7.4</td>\n",
       "      <td>0.70</td>\n",
       "      <td>0.00</td>\n",
       "      <td>1.9</td>\n",
       "      <td>0.076</td>\n",
       "      <td>11.0</td>\n",
       "      <td>34.0</td>\n",
       "      <td>0.9978</td>\n",
       "      <td>3.51</td>\n",
       "      <td>0.56</td>\n",
       "      <td>9.4</td>\n",
       "      <td>5</td>\n",
       "    </tr>\n",
       "    <tr>\n",
       "      <th>1</th>\n",
       "      <td>7.8</td>\n",
       "      <td>0.88</td>\n",
       "      <td>0.00</td>\n",
       "      <td>2.6</td>\n",
       "      <td>0.098</td>\n",
       "      <td>25.0</td>\n",
       "      <td>67.0</td>\n",
       "      <td>0.9968</td>\n",
       "      <td>3.20</td>\n",
       "      <td>0.68</td>\n",
       "      <td>9.8</td>\n",
       "      <td>5</td>\n",
       "    </tr>\n",
       "    <tr>\n",
       "      <th>2</th>\n",
       "      <td>7.8</td>\n",
       "      <td>0.76</td>\n",
       "      <td>0.04</td>\n",
       "      <td>2.3</td>\n",
       "      <td>0.092</td>\n",
       "      <td>15.0</td>\n",
       "      <td>54.0</td>\n",
       "      <td>0.9970</td>\n",
       "      <td>3.26</td>\n",
       "      <td>0.65</td>\n",
       "      <td>9.8</td>\n",
       "      <td>5</td>\n",
       "    </tr>\n",
       "    <tr>\n",
       "      <th>3</th>\n",
       "      <td>11.2</td>\n",
       "      <td>0.28</td>\n",
       "      <td>0.56</td>\n",
       "      <td>1.9</td>\n",
       "      <td>0.075</td>\n",
       "      <td>17.0</td>\n",
       "      <td>60.0</td>\n",
       "      <td>0.9980</td>\n",
       "      <td>3.16</td>\n",
       "      <td>0.58</td>\n",
       "      <td>9.8</td>\n",
       "      <td>6</td>\n",
       "    </tr>\n",
       "    <tr>\n",
       "      <th>4</th>\n",
       "      <td>7.4</td>\n",
       "      <td>0.70</td>\n",
       "      <td>0.00</td>\n",
       "      <td>1.9</td>\n",
       "      <td>0.076</td>\n",
       "      <td>11.0</td>\n",
       "      <td>34.0</td>\n",
       "      <td>0.9978</td>\n",
       "      <td>3.51</td>\n",
       "      <td>0.56</td>\n",
       "      <td>9.4</td>\n",
       "      <td>5</td>\n",
       "    </tr>\n",
       "  </tbody>\n",
       "</table>\n",
       "</div>"
      ],
      "text/plain": [
       "   fixed acidity  volatile acidity  citric acid  residual sugar  chlorides  \\\n",
       "0            7.4              0.70         0.00             1.9      0.076   \n",
       "1            7.8              0.88         0.00             2.6      0.098   \n",
       "2            7.8              0.76         0.04             2.3      0.092   \n",
       "3           11.2              0.28         0.56             1.9      0.075   \n",
       "4            7.4              0.70         0.00             1.9      0.076   \n",
       "\n",
       "   free sulfur dioxide  total sulfur dioxide  density    pH  sulphates  \\\n",
       "0                 11.0                  34.0   0.9978  3.51       0.56   \n",
       "1                 25.0                  67.0   0.9968  3.20       0.68   \n",
       "2                 15.0                  54.0   0.9970  3.26       0.65   \n",
       "3                 17.0                  60.0   0.9980  3.16       0.58   \n",
       "4                 11.0                  34.0   0.9978  3.51       0.56   \n",
       "\n",
       "   alcohol  quality  \n",
       "0      9.4        5  \n",
       "1      9.8        5  \n",
       "2      9.8        5  \n",
       "3      9.8        6  \n",
       "4      9.4        5  "
      ]
     },
     "execution_count": 30,
     "metadata": {},
     "output_type": "execute_result"
    }
   ],
   "source": [
    "df = pd.read_csv(\"winequality-red.csv\",sep=';')\n",
    "df.head()"
   ]
  },
  {
   "cell_type": "code",
   "execution_count": 31,
   "metadata": {
    "ExecuteTime": {
     "end_time": "2020-09-13T09:22:57.205049Z",
     "start_time": "2020-09-13T09:22:57.194531Z"
    }
   },
   "outputs": [],
   "source": [
    "# a mapping dictionary that maps the quality values from 0 to 5\n",
    "quality_mapping = { 3: 0,\n",
    "    4: 1,\n",
    "    5: 2,\n",
    "    6: 3,\n",
    "    7: 4,\n",
    "    8: 5\n",
    "}\n",
    "# you can use the map function of pandas with\n",
    "# any dictionary to convert the values in a given\n",
    "# column to values in the dictionary\n",
    "df.loc[:, \"quality\"] = df.quality.map(quality_mapping)"
   ]
  },
  {
   "cell_type": "code",
   "execution_count": 32,
   "metadata": {
    "ExecuteTime": {
     "end_time": "2020-09-13T09:22:57.623411Z",
     "start_time": "2020-09-13T09:22:57.209970Z"
    }
   },
   "outputs": [
    {
     "data": {
      "text/plain": [
       "Text(0, 0.5, 'count')"
      ]
     },
     "execution_count": 32,
     "metadata": {},
     "output_type": "execute_result"
    },
    {
     "data": {
      "image/png": "[encoded data removed]",
      "text/plain": [
       "<Figure size 432x288 with 1 Axes>"
      ]
     },
     "metadata": {},
     "output_type": "display_data"
    }
   ],
   "source": [
    "# For the wine dataset, let’s look at the distribution of labels.\n",
    "b = sns.countplot(x='quality', data=df)\n",
    "b.set_xlabel(\"quality\", fontsize=20)\n",
    "b.set_ylabel(\"count\", fontsize=20)"
   ]
  },
  {
   "cell_type": "code",
   "execution_count": 33,
   "metadata": {
    "ExecuteTime": {
     "end_time": "2020-09-13T09:22:57.633095Z",
     "start_time": "2020-09-13T09:22:57.627851Z"
    }
   },
   "outputs": [],
   "source": [
    "# The rule is simple. If it’s a standard classification problem, choose stratified k-fold blindly."
   ]
  },
  {
   "cell_type": "markdown",
   "metadata": {},
   "source": [
    "*Suppose we have 1 million samples. A 5 fold cross-validation would mean training on 800k samples and validating on 200k. Depending on which algorithm we choose, training and even validation can be very expensive for a dataset which is of this size. In these cases, we can opt for a hold-out based validation*"
   ]
  },
  {
   "cell_type": "code",
   "execution_count": 34,
   "metadata": {
    "ExecuteTime": {
     "end_time": "2020-09-13T09:22:57.642531Z",
     "start_time": "2020-09-13T09:22:57.637371Z"
    }
   },
   "outputs": [],
   "source": [
    "# The process for creating the hold-out remains the same as stratified k-fold.\n",
    "# Hold-out is also used very frequently with time-series data"
   ]
  },
  {
   "cell_type": "code",
   "execution_count": 35,
   "metadata": {
    "ExecuteTime": {
     "end_time": "2020-09-13T09:22:57.651753Z",
     "start_time": "2020-09-13T09:22:57.647305Z"
    }
   },
   "outputs": [],
   "source": [
    "# To use stratified k-fold for a regression problem\n",
    "# we have first to divide the target into bins, \n",
    "#and then we can use stratified k-fold in the same way\n",
    "#as for classification problems"
   ]
  },
  {
   "cell_type": "code",
   "execution_count": 36,
   "metadata": {
    "ExecuteTime": {
     "end_time": "2020-09-13T09:22:57.663569Z",
     "start_time": "2020-09-13T09:22:57.656336Z"
    }
   },
   "outputs": [],
   "source": [
    "# Let’s make a sample regression dataset and try to apply stratified k-fold \n",
    "#as shown in the following python snippet.\n",
    "# stratified-kfold for regression\n",
    "import numpy as np \n",
    "import pandas as pd\n",
    "from sklearn import datasets\n",
    "from sklearn import model_selection"
   ]
  },
  {
   "cell_type": "code",
   "execution_count": 37,
   "metadata": {
    "ExecuteTime": {
     "end_time": "2020-09-13T09:22:58.033421Z",
     "start_time": "2020-09-13T09:22:57.668152Z"
    }
   },
   "outputs": [
    {
     "name": "stderr",
     "output_type": "stream",
     "text": [
      "/Users/peterokwukogu/anaconda3/envs/data_sci/lib/python3.7/site-packages/sklearn/model_selection/_split.py:667: UserWarning: The least populated class in y has only 3 members, which is less than n_splits=5.\n",
      "  % (min_groups, self.n_splits)), UserWarning)\n"
     ]
    }
   ],
   "source": [
    "def create_folds(data):\n",
    "# we create a new column called kfold and fill it with -1 \n",
    "    data[\"kfold\"] = -1\n",
    "\n",
    "# the next step is to randomize the rows of the data\n",
    "    data = data.sample(frac=1).reset_index(drop=True)\n",
    "\n",
    "# calculate the number of bins by Sturge's rule \n",
    "# I take the floor of the value, you can also\n",
    "# just round it\n",
    "    num_bins = int(np.floor(1 + np.log2(len(data))))\n",
    "\n",
    "# bin targets\n",
    "    data.loc[:, \"bins\"] = pd.cut(\n",
    "    data[\"target\"], bins=num_bins, labels=False)\n",
    "\n",
    "# initiate the kfold class from model_selection module\n",
    "    kf = model_selection.StratifiedKFold(n_splits=5)\n",
    "\n",
    "# fill the new kfold column\n",
    "# note that, instead of targets, we use bins!\n",
    "    for f, (t_, v_) in enumerate(kf.split(X=data, y=data.bins.values)):\n",
    "        data.loc[v_, 'kfold'] = f\n",
    "\n",
    "# drop the bins column\n",
    "    data = data.drop(\"bins\", axis=1) \n",
    "\n",
    "# return dataframe with folds \n",
    "    return data\n",
    "\n",
    "if __name__ == \"__main__\":\n",
    "# we create a sample dataset with 15000 samples \n",
    "# and 100 features and 1 target\n",
    "    X, y = datasets.make_regression(\n",
    "    n_samples=15000, n_features=100, n_targets=1 )\n",
    "\n",
    "# create a dataframe out of our numpy arrays\n",
    "df = pd.DataFrame(X, columns=[f\"f_{i}\" for i in range(X.shape[1])])\n",
    "df.loc[:, \"target\"] = y\n",
    "\n",
    "# create folds\n",
    "df = create_folds(df)"
   ]
  },
  {
   "cell_type": "code",
   "execution_count": 38,
   "metadata": {
    "ExecuteTime": {
     "end_time": "2020-09-13T09:22:58.110185Z",
     "start_time": "2020-09-13T09:22:58.037668Z"
    }
   },
   "outputs": [
    {
     "data": {
      "text/html": [
       "<div>\n",
       "<style scoped>\n",
       "    .dataframe tbody tr th:only-of-type {\n",
       "        vertical-align: middle;\n",
       "    }\n",
       "\n",
       "    .dataframe tbody tr th {\n",
       "        vertical-align: top;\n",
       "    }\n",
       "\n",
       "    .dataframe thead th {\n",
       "        text-align: right;\n",
       "    }\n",
       "</style>\n",
       "<table border=\"1\" class=\"dataframe\">\n",
       "  <thead>\n",
       "    <tr style=\"text-align: right;\">\n",
       "      <th></th>\n",
       "      <th>f_0</th>\n",
       "      <th>f_1</th>\n",
       "      <th>f_2</th>\n",
       "      <th>f_3</th>\n",
       "      <th>f_4</th>\n",
       "      <th>f_5</th>\n",
       "      <th>f_6</th>\n",
       "      <th>f_7</th>\n",
       "      <th>f_8</th>\n",
       "      <th>f_9</th>\n",
       "      <th>...</th>\n",
       "      <th>f_92</th>\n",
       "      <th>f_93</th>\n",
       "      <th>f_94</th>\n",
       "      <th>f_95</th>\n",
       "      <th>f_96</th>\n",
       "      <th>f_97</th>\n",
       "      <th>f_98</th>\n",
       "      <th>f_99</th>\n",
       "      <th>target</th>\n",
       "      <th>kfold</th>\n",
       "    </tr>\n",
       "  </thead>\n",
       "  <tbody>\n",
       "    <tr>\n",
       "      <th>0</th>\n",
       "      <td>-0.329770</td>\n",
       "      <td>0.356673</td>\n",
       "      <td>1.962449</td>\n",
       "      <td>-0.141234</td>\n",
       "      <td>0.969514</td>\n",
       "      <td>0.276833</td>\n",
       "      <td>0.583081</td>\n",
       "      <td>-0.397225</td>\n",
       "      <td>0.020501</td>\n",
       "      <td>0.419354</td>\n",
       "      <td>...</td>\n",
       "      <td>-0.481409</td>\n",
       "      <td>0.215065</td>\n",
       "      <td>0.792819</td>\n",
       "      <td>-0.300054</td>\n",
       "      <td>0.009671</td>\n",
       "      <td>0.791999</td>\n",
       "      <td>0.387805</td>\n",
       "      <td>1.354383</td>\n",
       "      <td>141.714170</td>\n",
       "      <td>0</td>\n",
       "    </tr>\n",
       "    <tr>\n",
       "      <th>1</th>\n",
       "      <td>0.867384</td>\n",
       "      <td>-0.130253</td>\n",
       "      <td>-0.903272</td>\n",
       "      <td>-1.191572</td>\n",
       "      <td>-1.758753</td>\n",
       "      <td>-0.783577</td>\n",
       "      <td>0.388469</td>\n",
       "      <td>0.355452</td>\n",
       "      <td>2.061691</td>\n",
       "      <td>1.163129</td>\n",
       "      <td>...</td>\n",
       "      <td>-0.632205</td>\n",
       "      <td>-0.117414</td>\n",
       "      <td>0.410865</td>\n",
       "      <td>0.250266</td>\n",
       "      <td>-0.234630</td>\n",
       "      <td>0.231464</td>\n",
       "      <td>1.031396</td>\n",
       "      <td>1.634491</td>\n",
       "      <td>67.255222</td>\n",
       "      <td>0</td>\n",
       "    </tr>\n",
       "    <tr>\n",
       "      <th>2</th>\n",
       "      <td>-0.050065</td>\n",
       "      <td>-0.993928</td>\n",
       "      <td>-1.120162</td>\n",
       "      <td>-0.297224</td>\n",
       "      <td>0.863117</td>\n",
       "      <td>-0.195890</td>\n",
       "      <td>-1.668840</td>\n",
       "      <td>-0.135349</td>\n",
       "      <td>0.806147</td>\n",
       "      <td>0.542236</td>\n",
       "      <td>...</td>\n",
       "      <td>0.223685</td>\n",
       "      <td>0.699439</td>\n",
       "      <td>-2.154402</td>\n",
       "      <td>0.907824</td>\n",
       "      <td>0.662031</td>\n",
       "      <td>0.117682</td>\n",
       "      <td>-1.056080</td>\n",
       "      <td>-1.100806</td>\n",
       "      <td>161.627120</td>\n",
       "      <td>0</td>\n",
       "    </tr>\n",
       "    <tr>\n",
       "      <th>3</th>\n",
       "      <td>-1.112504</td>\n",
       "      <td>0.447275</td>\n",
       "      <td>-0.163143</td>\n",
       "      <td>0.012554</td>\n",
       "      <td>0.365195</td>\n",
       "      <td>0.947568</td>\n",
       "      <td>-0.557881</td>\n",
       "      <td>-0.487823</td>\n",
       "      <td>-3.031382</td>\n",
       "      <td>-0.887720</td>\n",
       "      <td>...</td>\n",
       "      <td>1.068075</td>\n",
       "      <td>-0.291401</td>\n",
       "      <td>-0.631211</td>\n",
       "      <td>0.654848</td>\n",
       "      <td>-1.341296</td>\n",
       "      <td>0.850190</td>\n",
       "      <td>1.155355</td>\n",
       "      <td>-0.475595</td>\n",
       "      <td>327.907747</td>\n",
       "      <td>0</td>\n",
       "    </tr>\n",
       "    <tr>\n",
       "      <th>4</th>\n",
       "      <td>-0.460259</td>\n",
       "      <td>-0.158811</td>\n",
       "      <td>0.737899</td>\n",
       "      <td>-0.991255</td>\n",
       "      <td>-1.679275</td>\n",
       "      <td>-0.684399</td>\n",
       "      <td>0.896696</td>\n",
       "      <td>-0.234347</td>\n",
       "      <td>-0.213680</td>\n",
       "      <td>0.030537</td>\n",
       "      <td>...</td>\n",
       "      <td>0.469493</td>\n",
       "      <td>2.012138</td>\n",
       "      <td>-0.363079</td>\n",
       "      <td>-1.603238</td>\n",
       "      <td>0.462032</td>\n",
       "      <td>0.819092</td>\n",
       "      <td>-0.157325</td>\n",
       "      <td>-0.809301</td>\n",
       "      <td>-112.595912</td>\n",
       "      <td>0</td>\n",
       "    </tr>\n",
       "  </tbody>\n",
       "</table>\n",
       "<p>5 rows × 102 columns</p>\n",
       "</div>"
      ],
      "text/plain": [
       "        f_0       f_1       f_2       f_3       f_4       f_5       f_6  \\\n",
       "0 -0.329770  0.356673  1.962449 -0.141234  0.969514  0.276833  0.583081   \n",
       "1  0.867384 -0.130253 -0.903272 -1.191572 -1.758753 -0.783577  0.388469   \n",
       "2 -0.050065 -0.993928 -1.120162 -0.297224  0.863117 -0.195890 -1.668840   \n",
       "3 -1.112504  0.447275 -0.163143  0.012554  0.365195  0.947568 -0.557881   \n",
       "4 -0.460259 -0.158811  0.737899 -0.991255 -1.679275 -0.684399  0.896696   \n",
       "\n",
       "        f_7       f_8       f_9  ...      f_92      f_93      f_94      f_95  \\\n",
       "0 -0.397225  0.020501  0.419354  ... -0.481409  0.215065  0.792819 -0.300054   \n",
       "1  0.355452  2.061691  1.163129  ... -0.632205 -0.117414  0.410865  0.250266   \n",
       "2 -0.135349  0.806147  0.542236  ...  0.223685  0.699439 -2.154402  0.907824   \n",
       "3 -0.487823 -3.031382 -0.887720  ...  1.068075 -0.291401 -0.631211  0.654848   \n",
       "4 -0.234347 -0.213680  0.030537  ...  0.469493  2.012138 -0.363079 -1.603238   \n",
       "\n",
       "       f_96      f_97      f_98      f_99      target  kfold  \n",
       "0  0.009671  0.791999  0.387805  1.354383  141.714170      0  \n",
       "1 -0.234630  0.231464  1.031396  1.634491   67.255222      0  \n",
       "2  0.662031  0.117682 -1.056080 -1.100806  161.627120      0  \n",
       "3 -1.341296  0.850190  1.155355 -0.475595  327.907747      0  \n",
       "4  0.462032  0.819092 -0.157325 -0.809301 -112.595912      0  \n",
       "\n",
       "[5 rows x 102 columns]"
      ]
     },
     "execution_count": 38,
     "metadata": {},
     "output_type": "execute_result"
    }
   ],
   "source": [
    "df.head()"
   ]
  },
  {
   "cell_type": "code",
   "execution_count": 39,
   "metadata": {
    "ExecuteTime": {
     "end_time": "2020-09-13T09:22:58.129761Z",
     "start_time": "2020-09-13T09:22:58.116456Z"
    }
   },
   "outputs": [
    {
     "data": {
      "text/plain": [
       "(15000, 102)"
      ]
     },
     "execution_count": 39,
     "metadata": {},
     "output_type": "execute_result"
    }
   ],
   "source": [
    "df.shape"
   ]
  },
  {
   "cell_type": "markdown",
   "metadata": {},
   "source": [
    "*Cross-validation is the first and most essential step when it comes to building machine learning models. If you want to do feature engineering, split your data first. If you're going to build models, split your data first. If you have a good cross-validation scheme in which validation data is representative of training and real-world data, you will be able to build a good machine learning model which is highly generalizable.*\n",
    "\n",
    "\n",
    "*The types of cross-validation presented in this chapter can be applied to almost any machine learning problem. Still, you must keep in mind that cross-validation also depends a lot on the data and you might need to adopt new forms of cross-validation depending on your problem and data.*\n",
    "\n",
    "\n",
    "*For example, let’s say we have a problem in which we would like to build a model to detect skin cancer from skin images of patients. Our task is to build a binary classifier which takes an input image and predicts the probability for it being benign or malignant.*\n",
    "\n",
    "\n",
    "*In these kinds of datasets, you might have multiple images for the same patient in the training dataset. So, to build a good cross-validation system here, you must have stratified k-folds, but you must also make sure that patients in training data do not appear in validation data.* \n",
    "\n",
    "*Fortunately, scikit-learn offers a type of cross-validation known as GroupKFold. Here the patients can be considered as groups. But unfortunately, there is no way to combine GroupKFold with StratifiedKFold in scikit-learn.*"
   ]
  },
  {
   "cell_type": "markdown",
   "metadata": {},
   "source": [
    "**Evaluation metrics**"
   ]
  },
  {
   "cell_type": "code",
   "execution_count": 40,
   "metadata": {
    "ExecuteTime": {
     "end_time": "2020-09-13T09:22:58.140474Z",
     "start_time": "2020-09-13T09:22:58.134548Z"
    }
   },
   "outputs": [],
   "source": [
    "# Accuracy\n",
    "# Accuracy: It is one of the most straightforward metrics used in machine learning. \n",
    "#It defines how accurate your model is\n",
    "\n",
    "# When we have an equal number of positive and negative samples in a binary classification metric, \n",
    "#we generally use accuracy, precision, recall and f1."
   ]
  },
  {
   "cell_type": "code",
   "execution_count": 41,
   "metadata": {
    "ExecuteTime": {
     "end_time": "2020-09-13T09:22:58.157667Z",
     "start_time": "2020-09-13T09:22:58.146978Z"
    }
   },
   "outputs": [],
   "source": [
    "# Python code for calculating accuracy is also quite simple\n",
    "def accuracy(y_true, y_pred): \n",
    "    \"\"\"\n",
    "    Function to calculate accuracy\n",
    "    :param y_true: list of true values\n",
    "    :param y_pred: list of predicted values\n",
    "    :return: accuracy score\n",
    "    \"\"\"\n",
    "    # initialize a simple counter for correct predictions correct_counter = 0\n",
    "    # loop over all elements of y_true\n",
    "    # and y_pred \"together\"\n",
    "    for yt, yp in zip(y_true, y_pred):\n",
    "        if yt == yp:\n",
    "        # if prediction is equal to truth, increase the counter correct_counter += 1\n",
    "        # return accuracy\n",
    "        # which is correct predictions over the number of samples \n",
    "            return correct_counter / len(y_true)"
   ]
  },
  {
   "cell_type": "code",
   "execution_count": 42,
   "metadata": {
    "ExecuteTime": {
     "end_time": "2020-09-13T09:22:58.167943Z",
     "start_time": "2020-09-13T09:22:58.162282Z"
    }
   },
   "outputs": [],
   "source": [
    "# We can also calculate accuracy using scikit-learn\n",
    "from sklearn import metrics"
   ]
  },
  {
   "cell_type": "code",
   "execution_count": 43,
   "metadata": {
    "ExecuteTime": {
     "end_time": "2020-09-13T09:22:58.180097Z",
     "start_time": "2020-09-13T09:22:58.172895Z"
    }
   },
   "outputs": [],
   "source": [
    "l1 = [0,1,1,1,0,0,0,1]\n",
    "l2 = [0,1,0,1,0,1,0,0]"
   ]
  },
  {
   "cell_type": "code",
   "execution_count": 44,
   "metadata": {
    "ExecuteTime": {
     "end_time": "2020-09-13T09:22:58.195140Z",
     "start_time": "2020-09-13T09:22:58.184424Z"
    }
   },
   "outputs": [
    {
     "data": {
      "text/plain": [
       "0.625"
      ]
     },
     "execution_count": 44,
     "metadata": {},
     "output_type": "execute_result"
    }
   ],
   "source": [
    "metrics.accuracy_score(l1, l2)"
   ]
  },
  {
   "cell_type": "markdown",
   "metadata": {},
   "source": [
    "**Let’s look at implementations of precision**"
   ]
  },
  {
   "cell_type": "code",
   "execution_count": 45,
   "metadata": {
    "ExecuteTime": {
     "end_time": "2020-09-13T09:37:09.265599Z",
     "start_time": "2020-09-13T09:37:09.258798Z"
    }
   },
   "outputs": [],
   "source": [
    "def true_positive(y_true, y_pred): \n",
    "    \"\"\"\n",
    "    Function to calculate True Positives \n",
    "    :param y_true: list of true values \n",
    "    :param y_pred: list of predicted values \n",
    "    :return: number of true positives\n",
    "    \"\"\"\n",
    "\n",
    "\n",
    "    # initialize\n",
    "    tp = 0\n",
    "    for yt, yp in zip(y_true, y_pred):\n",
    "        if yt == 1 and yp == 1:\n",
    "            tp += 1\n",
    "    return tp"
   ]
  },
  {
   "cell_type": "code",
   "execution_count": 46,
   "metadata": {
    "ExecuteTime": {
     "end_time": "2020-09-13T09:38:35.073693Z",
     "start_time": "2020-09-13T09:38:35.066876Z"
    }
   },
   "outputs": [],
   "source": [
    "def true_negative(y_true, y_pred): \n",
    "    \"\"\"\n",
    "    Function to calculate True Negatives \n",
    "    :param y_true: list of true values \n",
    "    :param y_pred: list of predicted values \n",
    "    :return: number of true negatives\n",
    "    \"\"\"\n",
    "\n",
    "\n",
    "    # initialize\n",
    "    tn = 0\n",
    "    for yt, yp in zip(y_true, y_pred):\n",
    "        if yt == 0 and yp == 0:\n",
    "            tn += 1\n",
    "    return tn"
   ]
  },
  {
   "cell_type": "code",
   "execution_count": 47,
   "metadata": {
    "ExecuteTime": {
     "end_time": "2020-09-13T09:44:37.088531Z",
     "start_time": "2020-09-13T09:44:37.082186Z"
    }
   },
   "outputs": [],
   "source": [
    "def false_positive(y_true, y_pred): \n",
    "    \"\"\"\n",
    "    Function to calculate False Positives \n",
    "    :param y_true: list of true values \n",
    "    :param y_pred: list of predicted values \n",
    "    :return: number of false positives\n",
    "    \"\"\"\n",
    "    # initialize\n",
    "    fp = 0\n",
    "    for yt, yp in zip(y_true, y_pred):\n",
    "        if yt == 0 and yp == 1: \n",
    "            fp += 1\n",
    "    return fp"
   ]
  },
  {
   "cell_type": "code",
   "execution_count": 48,
   "metadata": {
    "ExecuteTime": {
     "end_time": "2020-09-13T09:45:34.259713Z",
     "start_time": "2020-09-13T09:45:34.252573Z"
    }
   },
   "outputs": [],
   "source": [
    "def false_negative(y_true, y_pred): \n",
    "    \"\"\"\n",
    "    Function to calculate False Negatives \n",
    "    :param y_true: list of true values \n",
    "    :param y_pred: list of predicted values \n",
    "    :return: number of false negatives\n",
    "    \"\"\"\n",
    "    # initialize\n",
    "    fn = 0\n",
    "    for yt, yp in zip(y_true, y_pred):\n",
    "        if yt == 1 and yp == 0: \n",
    "            fn += 1\n",
    "    return fn"
   ]
  },
  {
   "cell_type": "code",
   "execution_count": 49,
   "metadata": {
    "ExecuteTime": {
     "end_time": "2020-09-13T09:47:20.542466Z",
     "start_time": "2020-09-13T09:47:20.537123Z"
    }
   },
   "outputs": [],
   "source": [
    "l1 = [0,1,1,1,0,0,0,1] \n",
    "l2 = [0,1,0,1,0,1,0,0]"
   ]
  },
  {
   "cell_type": "code",
   "execution_count": 50,
   "metadata": {
    "ExecuteTime": {
     "end_time": "2020-09-13T09:47:34.217916Z",
     "start_time": "2020-09-13T09:47:34.210194Z"
    }
   },
   "outputs": [
    {
     "data": {
      "text/plain": [
       "2"
      ]
     },
     "execution_count": 50,
     "metadata": {},
     "output_type": "execute_result"
    }
   ],
   "source": [
    "true_positive(l1, l2)"
   ]
  },
  {
   "cell_type": "code",
   "execution_count": 51,
   "metadata": {
    "ExecuteTime": {
     "end_time": "2020-09-13T09:48:09.729450Z",
     "start_time": "2020-09-13T09:48:09.721493Z"
    }
   },
   "outputs": [
    {
     "data": {
      "text/plain": [
       "1"
      ]
     },
     "execution_count": 51,
     "metadata": {},
     "output_type": "execute_result"
    }
   ],
   "source": [
    "false_positive(l1, l2)"
   ]
  },
  {
   "cell_type": "code",
   "execution_count": 52,
   "metadata": {
    "ExecuteTime": {
     "end_time": "2020-09-13T09:48:23.851752Z",
     "start_time": "2020-09-13T09:48:23.844057Z"
    }
   },
   "outputs": [
    {
     "data": {
      "text/plain": [
       "2"
      ]
     },
     "execution_count": 52,
     "metadata": {},
     "output_type": "execute_result"
    }
   ],
   "source": [
    "false_negative(l1, l2)"
   ]
  },
  {
   "cell_type": "code",
   "execution_count": 53,
   "metadata": {
    "ExecuteTime": {
     "end_time": "2020-09-13T09:48:40.759425Z",
     "start_time": "2020-09-13T09:48:40.751194Z"
    }
   },
   "outputs": [
    {
     "data": {
      "text/plain": [
       "3"
      ]
     },
     "execution_count": 53,
     "metadata": {},
     "output_type": "execute_result"
    }
   ],
   "source": [
    "true_negative(l1, l2)"
   ]
  },
  {
   "cell_type": "code",
   "execution_count": 55,
   "metadata": {
    "ExecuteTime": {
     "end_time": "2020-09-13T09:51:08.084392Z",
     "start_time": "2020-09-13T09:51:08.077942Z"
    }
   },
   "outputs": [],
   "source": [
    "# If we have to define accuracy using the terms described above, we can write:\n",
    "# Accuracy Score = (TP + TN) / (TP + TN + FP + FN)"
   ]
  },
  {
   "cell_type": "code",
   "execution_count": 56,
   "metadata": {
    "ExecuteTime": {
     "end_time": "2020-09-13T09:51:47.548755Z",
     "start_time": "2020-09-13T09:51:47.544866Z"
    }
   },
   "outputs": [],
   "source": [
    "# We can now quickly implement accuracy score using TP, TN, FP and FN in python. \n",
    "#Let’s call it accuracy_v2."
   ]
  },
  {
   "cell_type": "code",
   "execution_count": 57,
   "metadata": {
    "ExecuteTime": {
     "end_time": "2020-09-13T09:53:14.163414Z",
     "start_time": "2020-09-13T09:53:14.156298Z"
    }
   },
   "outputs": [],
   "source": [
    "def accuracy_v2(y_true, y_pred):\n",
    "    \"\"\"\n",
    "    Function to calculate accuracy using tp/tn/fp/fn \n",
    "    :param y_true: list of true values\n",
    "    :param y_pred: list of predicted values \n",
    "    :return: accuracy score\n",
    "    \"\"\"\n",
    "    tp = true_positive(y_true, y_pred)\n",
    "    fp = false_positive(y_true, y_pred)\n",
    "    fn = false_negative(y_true, y_pred)\n",
    "    tn = true_negative(y_true, y_pred) \n",
    "    accuracy_score = (tp + tn) / (tp + tn + fp + fn) \n",
    "    return accuracy_score"
   ]
  },
  {
   "cell_type": "markdown",
   "metadata": {},
   "source": [
    "**Precision**"
   ]
  },
  {
   "cell_type": "code",
   "execution_count": 59,
   "metadata": {
    "ExecuteTime": {
     "end_time": "2020-09-13T11:41:53.467234Z",
     "start_time": "2020-09-13T11:41:53.461268Z"
    }
   },
   "outputs": [],
   "source": [
    "# Precision = TP / (TP + FP)\n",
    "def precision(y_true, y_pred):\n",
    "    \"\"\"\n",
    "    Function to calculate precision\n",
    "    :param y_true: list of true values \n",
    "    :param y_pred: list of predicted values \n",
    "    :return: precision score\n",
    "    \"\"\"\n",
    "    tp = true_positive(y_true, y_pred)\n",
    "    fp = false_positive(y_true, y_pred) \n",
    "    precision = tp / (tp + fp)\n",
    "    return precision"
   ]
  },
  {
   "cell_type": "code",
   "execution_count": 60,
   "metadata": {
    "ExecuteTime": {
     "end_time": "2020-09-13T11:54:46.305155Z",
     "start_time": "2020-09-13T11:54:46.298605Z"
    }
   },
   "outputs": [],
   "source": [
    "# Let’s try this implementation of precision.\n",
    "l1 = [0,1,1,1,0,0,0,1]\n",
    "l2 = [0,1,0,1,0,1,0,0]"
   ]
  },
  {
   "cell_type": "code",
   "execution_count": 61,
   "metadata": {
    "ExecuteTime": {
     "end_time": "2020-09-13T11:55:00.088236Z",
     "start_time": "2020-09-13T11:55:00.077325Z"
    }
   },
   "outputs": [
    {
     "data": {
      "text/plain": [
       "0.6666666666666666"
      ]
     },
     "execution_count": 61,
     "metadata": {},
     "output_type": "execute_result"
    }
   ],
   "source": [
    "precision(l1, l2)"
   ]
  },
  {
   "cell_type": "markdown",
   "metadata": {},
   "source": [
    "**Recall**"
   ]
  },
  {
   "cell_type": "code",
   "execution_count": 62,
   "metadata": {
    "ExecuteTime": {
     "end_time": "2020-09-13T11:57:37.387693Z",
     "start_time": "2020-09-13T11:57:37.377300Z"
    }
   },
   "outputs": [],
   "source": [
    "# Recall = TP / (TP + FN)\n",
    "def recall(y_true, y_pred):\n",
    "    \"\"\"\n",
    "    Function to calculate recall\n",
    "    :param y_true: list of true values \n",
    "    :param y_pred: list of predicted values \n",
    "    :return: recall score\n",
    "    \"\"\"\n",
    "    tp = true_positive(y_true, y_pred)\n",
    "    fn = false_negative(y_true, y_pred) \n",
    "    recall = tp / (tp + fn)\n",
    "    return recall"
   ]
  },
  {
   "cell_type": "code",
   "execution_count": 63,
   "metadata": {
    "ExecuteTime": {
     "end_time": "2020-09-13T11:58:00.851611Z",
     "start_time": "2020-09-13T11:58:00.843648Z"
    }
   },
   "outputs": [],
   "source": [
    "# Let’s try this implementation of recall.\n",
    "l1 = [0,1,1,1,0,0,0,1]\n",
    "l2 = [0,1,0,1,0,1,0,0]"
   ]
  },
  {
   "cell_type": "code",
   "execution_count": 64,
   "metadata": {
    "ExecuteTime": {
     "end_time": "2020-09-13T11:58:21.941942Z",
     "start_time": "2020-09-13T11:58:21.933645Z"
    }
   },
   "outputs": [
    {
     "data": {
      "text/plain": [
       "0.5"
      ]
     },
     "execution_count": 64,
     "metadata": {},
     "output_type": "execute_result"
    }
   ],
   "source": [
    "recall(l1, l2)"
   ]
  },
  {
   "cell_type": "markdown",
   "metadata": {},
   "source": [
    "**Precision-recall curve**"
   ]
  },
  {
   "cell_type": "code",
   "execution_count": 65,
   "metadata": {
    "ExecuteTime": {
     "end_time": "2020-09-13T12:02:17.750058Z",
     "start_time": "2020-09-13T12:02:17.744190Z"
    }
   },
   "outputs": [],
   "source": [
    "# Before looking into the precision-recall curve, let’s assume two lists.\n",
    "y_true = [0, 0, 0, 1, 0, 0, 0, 0, 0, 0,1,0,0,0,0,0,0,0,1, 0]"
   ]
  },
  {
   "cell_type": "code",
   "execution_count": 66,
   "metadata": {
    "ExecuteTime": {
     "end_time": "2020-09-13T12:07:50.032860Z",
     "start_time": "2020-09-13T12:07:50.025864Z"
    }
   },
   "outputs": [],
   "source": [
    "y_pred = [0.02638412, 0.11114267, 0.31620708, 0.0490937, 0.0191491, 0.17554844, 0.15952202, 0.03819563, \n",
    "          0.11639273, 0.079377, 0.08584789, 0.39095342, 0.27259048, 0.03447096, 0.04644807, 0.03543574,\n",
    "          0.18521942, 0.18521942, 0.61977213, 0.33056815]"
   ]
  },
  {
   "cell_type": "code",
   "execution_count": 67,
   "metadata": {
    "ExecuteTime": {
     "end_time": "2020-09-13T12:09:56.958619Z",
     "start_time": "2020-09-13T12:09:56.954138Z"
    }
   },
   "outputs": [],
   "source": [
    "# So, y_true is our targets, and y_pred is the probability values for a sample being assigned a value of 1\n",
    "# So, now, we look at probabilities in prediction instead of the predicted value (which is most of the time \n",
    "#calculated with a threshold at 0.5)"
   ]
  },
  {
   "cell_type": "code",
   "execution_count": 70,
   "metadata": {
    "ExecuteTime": {
     "end_time": "2020-09-13T12:12:57.343040Z",
     "start_time": "2020-09-13T12:12:57.333730Z"
    }
   },
   "outputs": [],
   "source": [
    "precisions = []\n",
    "recalls = []\n",
    "# how we assumed these thresholds is a long story\n",
    "thresholds = [0.0490937, 0.05934905, 0.08584789, 0.11114267, 0.15952202,\n",
    "              0.17554844, 0.27259048, 0.31620708, 0.39095342, 0.61977213,\n",
    "              0.079377, 0.11639273, 0.18521942, 0.33056815]\n",
    "# for every threshold, calculate predictions in binary # and append calculated precisions and recalls\n",
    "# to their respective lists\n",
    "for i in thresholds:\n",
    "    temp_prediction = [1 if x >= i else 0 for x in y_pred]\n",
    "    p = precision(y_true, temp_prediction) \n",
    "    r = recall(y_true, temp_prediction) \n",
    "    precisions.append(p) \n",
    "    recalls.append(r)"
   ]
  },
  {
   "cell_type": "code",
   "execution_count": 71,
   "metadata": {
    "ExecuteTime": {
     "end_time": "2020-09-13T12:14:54.447210Z",
     "start_time": "2020-09-13T12:14:54.028533Z"
    }
   },
   "outputs": [
    {
     "data": {
      "text/plain": [
       "Text(0, 0.5, 'Precision')"
      ]
     },
     "execution_count": 71,
     "metadata": {},
     "output_type": "execute_result"
    },
    {
     "data": {
      "image/png": "[encoded data removed]",
      "text/plain": [
       "<Figure size 504x504 with 1 Axes>"
      ]
     },
     "metadata": {},
     "output_type": "display_data"
    }
   ],
   "source": [
    "# Now, we can plot these values of precisions and recalls\n",
    "plt.figure(figsize=(7, 7))\n",
    "plt.plot(recalls, precisions)\n",
    "plt.xlabel('Recall', fontsize=15)\n",
    "plt.ylabel('Precision', fontsize=15)"
   ]
  },
  {
   "cell_type": "code",
   "execution_count": null,
   "metadata": {},
   "outputs": [],
   "source": []
  }
 ],
 "metadata": {
  "kernelspec": {
   "display_name": "Python 3",
   "language": "python",
   "name": "python3"
  },
  "language_info": {
   "codemirror_mode": {
    "name": "ipython",
    "version": 3
   },
   "file_extension": ".py",
   "mimetype": "text/x-python",
   "name": "python",
   "nbconvert_exporter": "python",
   "pygments_lexer": "ipython3",
   "version": "3.7.7"
  },
  "latex_envs": {
   "LaTeX_envs_menu_present": true,
   "autoclose": false,
   "autocomplete": true,
   "bibliofile": "biblio.bib",
   "cite_by": "apalike",
   "current_citInitial": 1,
   "eqLabelWithNumbers": true,
   "eqNumInitial": 1,
   "hotkeys": {
    "equation": "Ctrl-E",
    "itemize": "Ctrl-I"
   },
   "labels_anchors": false,
   "latex_user_defs": false,
   "report_style_numbering": false,
   "user_envs_cfg": false
  },
  "toc": {
   "base_numbering": 1,
   "nav_menu": {},
   "number_sections": true,
   "sideBar": true,
   "skip_h1_title": false,
   "title_cell": "Table of Contents",
   "title_sidebar": "Contents",
   "toc_cell": false,
   "toc_position": {},
   "toc_section_display": true,
   "toc_window_display": false
  },
  "varInspector": {
   "cols": {
    "lenName": 16,
    "lenType": 16,
    "lenVar": 40
   },
   "kernels_config": {
    "python": {
     "delete_cmd_postfix": "",
     "delete_cmd_prefix": "del ",
     "library": "var_list.py",
     "varRefreshCmd": "print(var_dic_list())"
    },
    "r": {
     "delete_cmd_postfix": ") ",
     "delete_cmd_prefix": "rm(",
     "library": "var_list.r",
     "varRefreshCmd": "cat(var_dic_list()) "
    }
   },
   "types_to_exclude": [
    "module",
    "function",
    "builtin_function_or_method",
    "instance",
    "_Feature"
   ],
   "window_display": false
  }
 },
 "nbformat": 4,
 "nbformat_minor": 4
}
